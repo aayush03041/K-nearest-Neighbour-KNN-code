{
 "cells": [
  {
   "cell_type": "code",
   "execution_count": 1,
   "metadata": {},
   "outputs": [],
   "source": [
    "from sklearn import datasets"
   ]
  },
  {
   "cell_type": "code",
   "execution_count": 2,
   "metadata": {},
   "outputs": [],
   "source": [
    "df=datasets.load_breast_cancer()"
   ]
  },
  {
   "cell_type": "code",
   "execution_count": 3,
   "metadata": {},
   "outputs": [],
   "source": [
    "from sklearn.model_selection import train_test_split\n",
    "x_train,x_test,y_train,y_test=train_test_split(df.data,df.target,random_state=1)"
   ]
  },
  {
   "cell_type": "code",
   "execution_count": 4,
   "metadata": {},
   "outputs": [],
   "source": [
    "def train(x,y):\n",
    "    return\n",
    "\n",
    "def predict_one(x_train,y_train,x_test,k):\n",
    "    distances=[]\n",
    "    for i in range(len(x_train)):\n",
    "        distance=((x_train[i,:]-x_test)**2).sum()\n",
    "        distances.append([distance,i])\n",
    "    \n",
    "    distances=sorted(distances)\n",
    "    targets=[]\n",
    "    for i in range(k):\n",
    "        index=distances[i][1]\n",
    "        targets.append(y_train[index])\n",
    "        \n",
    "    from collections import Counter\n",
    "    return Counter(targets).most_common(1)[0][0]\n",
    "    \n",
    "def predict(x_train,y_train,x_test,k):\n",
    "    predictions=[]\n",
    "    for x in x_test:\n",
    "        predictions.append(predict_one(x_train,y_train,x,k))\n",
    "        \n",
    "    return predictions"
   ]
  },
  {
   "cell_type": "code",
   "execution_count": 5,
   "metadata": {},
   "outputs": [],
   "source": [
    "y_pred=predict(x_train,y_train,x_test,7)"
   ]
  },
  {
   "cell_type": "code",
   "execution_count": 6,
   "metadata": {},
   "outputs": [
    {
     "data": {
      "text/plain": [
       "0.9300699300699301"
      ]
     },
     "execution_count": 6,
     "metadata": {},
     "output_type": "execute_result"
    }
   ],
   "source": [
    "from sklearn.metrics import accuracy_score\n",
    "accuracy_score(y_test,y_pred)"
   ]
  }
 ],
 "metadata": {
  "kernelspec": {
   "display_name": "Python 3",
   "language": "python",
   "name": "python3"
  },
  "language_info": {
   "codemirror_mode": {
    "name": "ipython",
    "version": 3
   },
   "file_extension": ".py",
   "mimetype": "text/x-python",
   "name": "python",
   "nbconvert_exporter": "python",
   "pygments_lexer": "ipython3",
   "version": "3.7.6"
  }
 },
 "nbformat": 4,
 "nbformat_minor": 4
}
